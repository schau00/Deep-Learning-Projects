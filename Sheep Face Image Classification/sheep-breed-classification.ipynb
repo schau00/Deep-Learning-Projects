{
 "cells": [
  {
   "cell_type": "code",
   "execution_count": 1,
   "metadata": {
    "_cell_guid": "79c7e3d0-c299-4dcb-8224-4455121ee9b0",
    "_uuid": "d629ff2d2480ee46fbb7e2d37f6b5fab8052498a",
    "execution": {
     "iopub.execute_input": "2020-12-13T10:25:22.841488Z",
     "iopub.status.busy": "2020-12-13T10:25:22.840577Z",
     "iopub.status.idle": "2020-12-13T10:25:23.028484Z",
     "shell.execute_reply": "2020-12-13T10:25:23.027635Z"
    },
    "papermill": {
     "duration": 0.210501,
     "end_time": "2020-12-13T10:25:23.028640",
     "exception": false,
     "start_time": "2020-12-13T10:25:22.818139",
     "status": "completed"
    },
    "scrolled": false,
    "tags": []
   },
   "outputs": [],
   "source": [
    "import numpy as np\n",
    "import cv2\n",
    "import random\n",
    "import matplotlib.pyplot as plt\n",
    "import os"
   ]
  },
  {
   "cell_type": "code",
   "execution_count": 2,
   "metadata": {
    "execution": {
     "iopub.execute_input": "2020-12-13T10:25:23.062330Z",
     "iopub.status.busy": "2020-12-13T10:25:23.061583Z",
     "iopub.status.idle": "2020-12-13T10:25:23.065137Z",
     "shell.execute_reply": "2020-12-13T10:25:23.064357Z"
    },
    "papermill": {
     "duration": 0.022428,
     "end_time": "2020-12-13T10:25:23.065267",
     "exception": false,
     "start_time": "2020-12-13T10:25:23.042839",
     "status": "completed"
    },
    "scrolled": false,
    "tags": []
   },
   "outputs": [],
   "source": [
    "Dir = r'/kaggle/input/sheep-breed-classification/SheepFaceImages'\n",
    "Categories = ['Marino','Poll Dorset','Suffolk','White Suffolk']"
   ]
  },
  {
   "cell_type": "code",
   "execution_count": 3,
   "metadata": {
    "execution": {
     "iopub.execute_input": "2020-12-13T10:25:23.102746Z",
     "iopub.status.busy": "2020-12-13T10:25:23.101931Z",
     "iopub.status.idle": "2020-12-13T10:25:45.213748Z",
     "shell.execute_reply": "2020-12-13T10:25:45.214360Z"
    },
    "papermill": {
     "duration": 22.135516,
     "end_time": "2020-12-13T10:25:45.214548",
     "exception": false,
     "start_time": "2020-12-13T10:25:23.079032",
     "status": "completed"
    },
    "scrolled": false,
    "tags": []
   },
   "outputs": [
    {
     "data": {
      "image/png": "[encoded data removed]",
      "text/plain": [
       "<Figure size 432x288 with 1 Axes>"
      ]
     },
     "metadata": {
      "needs_background": "light"
     },
     "output_type": "display_data"
    }
   ],
   "source": [
    "img_size = 64\n",
    "data = []\n",
    "\n",
    "for category in Categories:\n",
    "    folder = os.path.join(Dir,category)\n",
    "    label = Categories.index(category)\n",
    "    #print(folder)\n",
    "    #print(label)\n",
    "    for img in os.listdir(folder):\n",
    "        img_path = os.path.join(folder,img)\n",
    "        #print(img_path)\n",
    "        #break\n",
    "        img_arr = cv2.imread(img_path)\n",
    "        #plt.imshow(img_arr)\n",
    "        img_arr = cv2.resize(img_arr, (img_size,img_size))\n",
    "        #print(img_arr)\n",
    "        plt.imshow(img_arr)\n",
    "        data.append([img_arr,label])"
   ]
  },
  {
   "cell_type": "code",
   "execution_count": 4,
   "metadata": {
    "execution": {
     "iopub.execute_input": "2020-12-13T10:25:45.251778Z",
     "iopub.status.busy": "2020-12-13T10:25:45.250769Z",
     "iopub.status.idle": "2020-12-13T10:25:45.255724Z",
     "shell.execute_reply": "2020-12-13T10:25:45.254970Z"
    },
    "papermill": {
     "duration": 0.025635,
     "end_time": "2020-12-13T10:25:45.255847",
     "exception": false,
     "start_time": "2020-12-13T10:25:45.230212",
     "status": "completed"
    },
    "scrolled": false,
    "tags": []
   },
   "outputs": [
    {
     "data": {
      "text/plain": [
       "1680"
      ]
     },
     "execution_count": 4,
     "metadata": {},
     "output_type": "execute_result"
    }
   ],
   "source": [
    "len(data)"
   ]
  },
  {
   "cell_type": "code",
   "execution_count": 5,
   "metadata": {
    "execution": {
     "iopub.execute_input": "2020-12-13T10:25:45.295935Z",
     "iopub.status.busy": "2020-12-13T10:25:45.294879Z",
     "iopub.status.idle": "2020-12-13T10:25:45.298659Z",
     "shell.execute_reply": "2020-12-13T10:25:45.298037Z"
    },
    "papermill": {
     "duration": 0.02714,
     "end_time": "2020-12-13T10:25:45.298793",
     "exception": false,
     "start_time": "2020-12-13T10:25:45.271653",
     "status": "completed"
    },
    "scrolled": false,
    "tags": []
   },
   "outputs": [],
   "source": [
    "random.shuffle(data)"
   ]
  },
  {
   "cell_type": "code",
   "execution_count": 6,
   "metadata": {
    "execution": {
     "iopub.execute_input": "2020-12-13T10:25:45.339191Z",
     "iopub.status.busy": "2020-12-13T10:25:45.338205Z",
     "iopub.status.idle": "2020-12-13T10:25:45.341816Z",
     "shell.execute_reply": "2020-12-13T10:25:45.341046Z"
    },
    "papermill": {
     "duration": 0.027149,
     "end_time": "2020-12-13T10:25:45.341953",
     "exception": false,
     "start_time": "2020-12-13T10:25:45.314804",
     "status": "completed"
    },
    "scrolled": false,
    "tags": []
   },
   "outputs": [],
   "source": [
    "X = []\n",
    "y = []\n",
    "for features, label in data:\n",
    "    X.append(features)\n",
    "    y.append(label)"
   ]
  },
  {
   "cell_type": "code",
   "execution_count": 7,
   "metadata": {
    "execution": {
     "iopub.execute_input": "2020-12-13T10:25:45.382314Z",
     "iopub.status.busy": "2020-12-13T10:25:45.380757Z",
     "iopub.status.idle": "2020-12-13T10:25:45.396317Z",
     "shell.execute_reply": "2020-12-13T10:25:45.397029Z"
    },
    "papermill": {
     "duration": 0.039091,
     "end_time": "2020-12-13T10:25:45.397196",
     "exception": false,
     "start_time": "2020-12-13T10:25:45.358105",
     "status": "completed"
    },
    "scrolled": false,
    "tags": []
   },
   "outputs": [
    {
     "name": "stdout",
     "output_type": "stream",
     "text": [
      "(1680, 64, 64, 3)\n",
      "(1680,)\n"
     ]
    }
   ],
   "source": [
    "X = np.array(X)\n",
    "y = np.array(y)\n",
    "print(X.shape)\n",
    "print(y.shape)"
   ]
  },
  {
   "cell_type": "code",
   "execution_count": 8,
   "metadata": {
    "execution": {
     "iopub.execute_input": "2020-12-13T10:25:45.436227Z",
     "iopub.status.busy": "2020-12-13T10:25:45.435388Z",
     "iopub.status.idle": "2020-12-13T10:25:45.495852Z",
     "shell.execute_reply": "2020-12-13T10:25:45.496447Z"
    },
    "papermill": {
     "duration": 0.082509,
     "end_time": "2020-12-13T10:25:45.496621",
     "exception": false,
     "start_time": "2020-12-13T10:25:45.414112",
     "status": "completed"
    },
    "scrolled": false,
    "tags": []
   },
   "outputs": [],
   "source": [
    "X = X/255.0\n"
   ]
  },
  {
   "cell_type": "code",
   "execution_count": null,
   "metadata": {
    "papermill": {
     "duration": 0.016463,
     "end_time": "2020-12-13T10:25:45.530523",
     "exception": false,
     "start_time": "2020-12-13T10:25:45.514060",
     "status": "completed"
    },
    "scrolled": false,
    "tags": []
   },
   "outputs": [],
   "source": []
  },
  {
   "cell_type": "code",
   "execution_count": 9,
   "metadata": {
    "execution": {
     "iopub.execute_input": "2020-12-13T10:25:45.573895Z",
     "iopub.status.busy": "2020-12-13T10:25:45.572755Z",
     "iopub.status.idle": "2020-12-13T10:25:52.187938Z",
     "shell.execute_reply": "2020-12-13T10:25:52.187255Z"
    },
    "papermill": {
     "duration": 6.640833,
     "end_time": "2020-12-13T10:25:52.188076",
     "exception": false,
     "start_time": "2020-12-13T10:25:45.547243",
     "status": "completed"
    },
    "scrolled": false,
    "tags": []
   },
   "outputs": [],
   "source": [
    "import tensorflow\n",
    "from tensorflow import keras\n",
    "from tensorflow.keras import layers\n",
    "from keras.layers import Conv2D,MaxPooling2D,Flatten,Dense\n",
    "from keras.models import Sequential"
   ]
  },
  {
   "cell_type": "code",
   "execution_count": 10,
   "metadata": {
    "execution": {
     "iopub.execute_input": "2020-12-13T10:25:52.233964Z",
     "iopub.status.busy": "2020-12-13T10:25:52.233199Z",
     "iopub.status.idle": "2020-12-13T10:25:52.319985Z",
     "shell.execute_reply": "2020-12-13T10:25:52.319147Z"
    },
    "papermill": {
     "duration": 0.114592,
     "end_time": "2020-12-13T10:25:52.320116",
     "exception": false,
     "start_time": "2020-12-13T10:25:52.205524",
     "status": "completed"
    },
    "scrolled": false,
    "tags": []
   },
   "outputs": [],
   "source": [
    "model = Sequential()\n",
    "\n",
    "model.add(Conv2D(64, (2,2), activation = 'relu'))\n",
    "model.add(MaxPooling2D((2,2)))\n",
    "\n",
    "model.add(Conv2D(128, (2,2), activation = 'relu'))\n",
    "model.add(MaxPooling2D((2,2)))\n",
    "\n",
    "model.add(Conv2D(256, (2,2), activation = 'relu'))\n",
    "model.add(MaxPooling2D((2,2)))\n",
    "\n",
    "model.add(Flatten())\n",
    "\n",
    "model.add(Dense(128, input_shape = X.shape[1:], activation = 'relu'))\n",
    "model.add(Dense(4, activation = 'softmax'))\n"
   ]
  },
  {
   "cell_type": "code",
   "execution_count": 11,
   "metadata": {
    "execution": {
     "iopub.execute_input": "2020-12-13T10:25:52.369098Z",
     "iopub.status.busy": "2020-12-13T10:25:52.368282Z",
     "iopub.status.idle": "2020-12-13T10:25:52.378792Z",
     "shell.execute_reply": "2020-12-13T10:25:52.378154Z"
    },
    "papermill": {
     "duration": 0.041563,
     "end_time": "2020-12-13T10:25:52.378931",
     "exception": false,
     "start_time": "2020-12-13T10:25:52.337368",
     "status": "completed"
    },
    "scrolled": false,
    "tags": []
   },
   "outputs": [],
   "source": [
    "model.compile(optimizer = 'adam', loss = 'sparse_categorical_crossentropy',metrics = ['accuracy'])"
   ]
  },
  {
   "cell_type": "code",
   "execution_count": 12,
   "metadata": {
    "execution": {
     "iopub.execute_input": "2020-12-13T10:25:52.419815Z",
     "iopub.status.busy": "2020-12-13T10:25:52.418918Z",
     "iopub.status.idle": "2020-12-13T10:25:52.422746Z",
     "shell.execute_reply": "2020-12-13T10:25:52.422005Z"
    },
    "papermill": {
     "duration": 0.026544,
     "end_time": "2020-12-13T10:25:52.422872",
     "exception": false,
     "start_time": "2020-12-13T10:25:52.396328",
     "status": "completed"
    },
    "scrolled": false,
    "tags": []
   },
   "outputs": [
    {
     "data": {
      "text/plain": [
       "(1680, 64, 64, 3)"
      ]
     },
     "execution_count": 12,
     "metadata": {},
     "output_type": "execute_result"
    }
   ],
   "source": [
    "X.shape"
   ]
  },
  {
   "cell_type": "code",
   "execution_count": 13,
   "metadata": {
    "execution": {
     "iopub.execute_input": "2020-12-13T10:25:52.465312Z",
     "iopub.status.busy": "2020-12-13T10:25:52.464491Z",
     "iopub.status.idle": "2020-12-13T10:25:53.445533Z",
     "shell.execute_reply": "2020-12-13T10:25:53.444725Z"
    },
    "papermill": {
     "duration": 1.004864,
     "end_time": "2020-12-13T10:25:53.445663",
     "exception": false,
     "start_time": "2020-12-13T10:25:52.440799",
     "status": "completed"
    },
    "scrolled": false,
    "tags": []
   },
   "outputs": [],
   "source": [
    "from sklearn.model_selection import train_test_split\n",
    "xTrain, xTest, yTrain, yTest = train_test_split(X, y, test_size = 0.2, random_state = 0)"
   ]
  },
  {
   "cell_type": "code",
   "execution_count": 14,
   "metadata": {
    "execution": {
     "iopub.execute_input": "2020-12-13T10:25:53.489832Z",
     "iopub.status.busy": "2020-12-13T10:25:53.489034Z",
     "iopub.status.idle": "2020-12-13T10:28:14.720609Z",
     "shell.execute_reply": "2020-12-13T10:28:14.719764Z"
    },
    "papermill": {
     "duration": 141.256768,
     "end_time": "2020-12-13T10:28:14.720761",
     "exception": false,
     "start_time": "2020-12-13T10:25:53.463993",
     "status": "completed"
    },
    "scrolled": false,
    "tags": []
   },
   "outputs": [
    {
     "name": "stdout",
     "output_type": "stream",
     "text": [
      "Epoch 1/20\n",
      "34/34 [==============================] - 7s 200ms/step - loss: 1.2735 - accuracy: 0.3935 - val_loss: 1.0938 - val_accuracy: 0.4684\n",
      "Epoch 2/20\n",
      "34/34 [==============================] - 7s 193ms/step - loss: 0.8526 - accuracy: 0.6121 - val_loss: 0.8880 - val_accuracy: 0.5502\n",
      "Epoch 3/20\n",
      "34/34 [==============================] - 7s 205ms/step - loss: 0.6642 - accuracy: 0.7163 - val_loss: 0.6716 - val_accuracy: 0.6803\n",
      "Epoch 4/20\n",
      "34/34 [==============================] - 7s 194ms/step - loss: 0.4578 - accuracy: 0.8214 - val_loss: 0.5018 - val_accuracy: 0.8216\n",
      "Epoch 5/20\n",
      "34/34 [==============================] - 7s 195ms/step - loss: 0.3817 - accuracy: 0.8567 - val_loss: 0.4697 - val_accuracy: 0.8253\n",
      "Epoch 6/20\n",
      "34/34 [==============================] - 7s 198ms/step - loss: 0.3010 - accuracy: 0.8940 - val_loss: 0.4097 - val_accuracy: 0.8587\n",
      "Epoch 7/20\n",
      "34/34 [==============================] - 7s 212ms/step - loss: 0.2326 - accuracy: 0.9172 - val_loss: 0.4121 - val_accuracy: 0.8513\n",
      "Epoch 8/20\n",
      "34/34 [==============================] - 7s 210ms/step - loss: 0.1629 - accuracy: 0.9423 - val_loss: 0.3386 - val_accuracy: 0.8848\n",
      "Epoch 9/20\n",
      "34/34 [==============================] - 7s 201ms/step - loss: 0.1436 - accuracy: 0.9553 - val_loss: 0.4876 - val_accuracy: 0.8290\n",
      "Epoch 10/20\n",
      "34/34 [==============================] - 7s 196ms/step - loss: 0.1381 - accuracy: 0.9544 - val_loss: 0.4399 - val_accuracy: 0.8439\n",
      "Epoch 11/20\n",
      "34/34 [==============================] - 7s 202ms/step - loss: 0.1381 - accuracy: 0.9516 - val_loss: 0.3413 - val_accuracy: 0.8885\n",
      "Epoch 12/20\n",
      "34/34 [==============================] - 7s 210ms/step - loss: 0.0656 - accuracy: 0.9767 - val_loss: 0.3341 - val_accuracy: 0.8922\n",
      "Epoch 13/20\n",
      "34/34 [==============================] - 7s 206ms/step - loss: 0.0299 - accuracy: 0.9916 - val_loss: 0.4083 - val_accuracy: 0.8662\n",
      "Epoch 14/20\n",
      "34/34 [==============================] - 7s 198ms/step - loss: 0.0394 - accuracy: 0.9870 - val_loss: 0.3502 - val_accuracy: 0.8848\n",
      "Epoch 15/20\n",
      "34/34 [==============================] - 7s 196ms/step - loss: 0.0342 - accuracy: 0.9879 - val_loss: 0.5542 - val_accuracy: 0.8439\n",
      "Epoch 16/20\n",
      "34/34 [==============================] - 7s 209ms/step - loss: 0.0319 - accuracy: 0.9935 - val_loss: 0.3745 - val_accuracy: 0.9033\n",
      "Epoch 17/20\n",
      "34/34 [==============================] - 7s 207ms/step - loss: 0.0150 - accuracy: 0.9963 - val_loss: 0.3672 - val_accuracy: 0.9108\n",
      "Epoch 18/20\n",
      "34/34 [==============================] - 7s 193ms/step - loss: 0.0053 - accuracy: 1.0000 - val_loss: 0.4074 - val_accuracy: 0.8996\n",
      "Epoch 19/20\n",
      "34/34 [==============================] - 7s 193ms/step - loss: 0.0035 - accuracy: 1.0000 - val_loss: 0.4045 - val_accuracy: 0.9182\n",
      "Epoch 20/20\n",
      "34/34 [==============================] - 7s 192ms/step - loss: 0.0021 - accuracy: 1.0000 - val_loss: 0.4192 - val_accuracy: 0.9145\n"
     ]
    },
    {
     "data": {
      "text/plain": [
       "<tensorflow.python.keras.callbacks.History at 0x7effdc045090>"
      ]
     },
     "execution_count": 14,
     "metadata": {},
     "output_type": "execute_result"
    }
   ],
   "source": [
    "model.fit(xTrain,yTrain,epochs = 20, validation_split = 0.2)"
   ]
  },
  {
   "cell_type": "code",
   "execution_count": 15,
   "metadata": {
    "execution": {
     "iopub.execute_input": "2020-12-13T10:28:15.324333Z",
     "iopub.status.busy": "2020-12-13T10:28:15.323503Z",
     "iopub.status.idle": "2020-12-13T10:28:15.939744Z",
     "shell.execute_reply": "2020-12-13T10:28:15.939013Z"
    },
    "papermill": {
     "duration": 0.919539,
     "end_time": "2020-12-13T10:28:15.939896",
     "exception": false,
     "start_time": "2020-12-13T10:28:15.020357",
     "status": "completed"
    },
    "scrolled": false,
    "tags": []
   },
   "outputs": [
    {
     "name": "stdout",
     "output_type": "stream",
     "text": [
      "11/11 [==============================] - 1s 46ms/step - loss: 0.6124 - accuracy: 0.8839\n"
     ]
    },
    {
     "data": {
      "text/plain": [
       "[0.612367570400238, 0.8839285969734192]"
      ]
     },
     "execution_count": 15,
     "metadata": {},
     "output_type": "execute_result"
    }
   ],
   "source": [
    "model.evaluate(x=xTest, y=yTest)"
   ]
  }
 ],
 "metadata": {
  "kernelspec": {
   "display_name": "Python 3",
   "language": "python",
   "name": "python3"
  },
  "language_info": {
   "codemirror_mode": {
    "name": "ipython",
    "version": 3
   },
   "file_extension": ".py",
   "mimetype": "text/x-python",
   "name": "python",
   "nbconvert_exporter": "python",
   "pygments_lexer": "ipython3",
   "version": "3.7.6"
  },
  "papermill": {
   "duration": 178.926485,
   "end_time": "2020-12-13T10:28:16.353195",
   "environment_variables": {},
   "exception": null,
   "input_path": "__notebook__.ipynb",
   "output_path": "__notebook__.ipynb",
   "parameters": {},
   "start_time": "2020-12-13T10:25:17.426710",
   "version": "2.1.0"
  }
 },
 "nbformat": 4,
 "nbformat_minor": 4
}
